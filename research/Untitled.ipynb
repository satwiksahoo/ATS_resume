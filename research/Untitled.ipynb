{
 "cells": [
  {
   "cell_type": "code",
   "execution_count": 1,
   "id": "9988933a-4f59-42af-9a77-e2e6280fd571",
   "metadata": {},
   "outputs": [],
   "source": [
    "import pandas as pd"
   ]
  },
  {
   "cell_type": "code",
   "execution_count": 39,
   "id": "f116a012-ea61-4e21-9c7b-ffeaa7d781dc",
   "metadata": {},
   "outputs": [],
   "source": [
    "from transformers import AutoTokenizer, AutoModelForSequenceClassification, TrainingArguments, Trainer , pipeline\n",
    "from sklearn.metrics import accuracy_score, f1_score, classification_report\n",
    "import numpy as np\n",
    "\n",
    "model = AutoModelForSequenceClassification.from_pretrained(\"model3\")\n",
    "tokenizer = AutoTokenizer.from_pretrained(\"model3\")\n",
    "\n",
    "\n",
    "\n"
   ]
  },
  {
   "cell_type": "code",
   "execution_count": 40,
   "id": "8bff1447-9c71-44d1-aae1-e96e71e23662",
   "metadata": {},
   "outputs": [],
   "source": [
    "import re\n",
    "def preprocess_text(text):\n",
    "  tokens = []\n",
    "  text = re.sub(r'\\r\\n|\\n', ' ', text)\n",
    "  text = re.sub(r'\\s+', ' ', text)\n",
    "  text = re.sub(r'<.*?>', ' ', text)\n",
    "  text = text.strip().lower()\n",
    "\n",
    "\n",
    "\n",
    "  return text\n",
    "\n"
   ]
  },
  {
   "cell_type": "code",
   "execution_count": 41,
   "id": "6ee7cd7f-e9a0-4cef-bcbb-0b5963bd43c0",
   "metadata": {},
   "outputs": [
    {
     "name": "stderr",
     "output_type": "stream",
     "text": [
      "Device set to use mps:0\n"
     ]
    },
    {
     "name": "stdout",
     "output_type": "stream",
     "text": [
      "[{'label': 'LABEL_0', 'score': 0.9974628686904907}]\n"
     ]
    }
   ],
   "source": [
    "classifier = pipeline('text-classification' , model = model , tokenizer=tokenizer)\n",
    "\n",
    "resume_text = \"\"\"\n",
    "\n",
    "product Manager with 5 years of experience in AI products, \n",
    "ML engineer with 15+ years experience. Skilled in ML, \n",
    "DL ,NLP pytorch. background in programming, \n",
    "data science, or machine learning.\n",
    "\n",
    "\"\"\"\n",
    "\n",
    "job_text = \"\"\"\n",
    "\n",
    "\n",
    "Experience: Marketing Manager with 5 years of experience in digital campaigns, \n",
    "SEO, content strategy, and brand positioning. Skilled in Google Ads, \n",
    "Facebook Ads, and analytics tools. No background in programming, \n",
    "data science, or machine learning.\n",
    "\"\"\"\n",
    "\n",
    "# Concatenate resume and job description as input\n",
    "test_input = preprocess_text(resume_text) + \" [SEP] \" + preprocess_text(job_text) # /// q\n",
    "\n",
    "prediction = classifier(test_input)\n",
    "print(prediction)\n",
    "\n",
    "mapping = {  'LABEL_0':'No Fit'  ,  'LABEL_1' : 'Potential Fit' ,  'LABEL_2' : 'Good Fit'   }\n",
    "\n",
    "\n"
   ]
  },
  {
   "cell_type": "code",
   "execution_count": 42,
   "id": "81c3debd-657e-462f-85df-653393cff4a0",
   "metadata": {},
   "outputs": [
    {
     "name": "stdout",
     "output_type": "stream",
     "text": [
      "No Fit\n"
     ]
    }
   ],
   "source": [
    "\n",
    "    print(mapping[prediction[0]['label']])\n"
   ]
  },
  {
   "cell_type": "code",
   "execution_count": 43,
   "id": "e8f4cf96-5db1-444a-9436-7327b04fddea",
   "metadata": {},
   "outputs": [
    {
     "name": "stdout",
     "output_type": "stream",
     "text": [
      "No Fit\n"
     ]
    }
   ],
   "source": [
    "print(mapping[prediction[0]['label']])"
   ]
  },
  {
   "cell_type": "code",
   "execution_count": null,
   "id": "89662ff5-d2a1-4a31-b064-289506bd6552",
   "metadata": {},
   "outputs": [],
   "source": []
  }
 ],
 "metadata": {
  "kernelspec": {
   "display_name": "venv",
   "language": "python",
   "name": "python3"
  },
  "language_info": {
   "codemirror_mode": {
    "name": "ipython",
    "version": 3
   },
   "file_extension": ".py",
   "mimetype": "text/x-python",
   "name": "python",
   "nbconvert_exporter": "python",
   "pygments_lexer": "ipython3",
   "version": "3.10.0"
  }
 },
 "nbformat": 4,
 "nbformat_minor": 5
}

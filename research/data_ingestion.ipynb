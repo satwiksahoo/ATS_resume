{
 "cells": [
  {
   "cell_type": "code",
   "execution_count": null,
   "id": "55aebcf7",
   "metadata": {},
   "outputs": [
    {
     "data": {
      "text/plain": [
       "'/Users/satwiksahoo/Desktop/CodeBasics/machine learning/krish naik/NLP project/ATSresume/RESUME_ATS/research'"
      ]
     },
     "execution_count": 1,
     "metadata": {},
     "output_type": "execute_result"
    }
   ],
   "source": [
    "# import os\n",
    "\n",
    "# %pwd"
   ]
  },
  {
   "cell_type": "code",
   "execution_count": null,
   "id": "c4807fd5",
   "metadata": {},
   "outputs": [
    {
     "data": {
      "text/plain": [
       "'/Users/satwiksahoo/Desktop/CodeBasics/machine learning/krish naik/NLP project/ATSresume/RESUME_ATS'"
      ]
     },
     "execution_count": 2,
     "metadata": {},
     "output_type": "execute_result"
    }
   ],
   "source": [
    "# os.chdir('../')\n",
    "\n",
    "# %pwd"
   ]
  },
  {
   "cell_type": "code",
   "execution_count": 1,
   "id": "e9d66a24",
   "metadata": {
    "ExecuteTime": {
     "end_time": "2025-08-30T06:29:39.905602Z",
     "start_time": "2025-08-30T06:29:39.652200Z"
    }
   },
   "outputs": [
    {
     "name": "stderr",
     "output_type": "stream",
     "text": [
      "/Users/satwiksahoo/Desktop/CodeBasics/machine learning/krish naik/NLP project/ATSresume/RESUME_ATS/venv/lib/python3.10/site-packages/tqdm/auto.py:21: TqdmWarning: IProgress not found. Please update jupyter and ipywidgets. See https://ipywidgets.readthedocs.io/en/stable/user_install.html\n",
      "  from .autonotebook import tqdm as notebook_tqdm\n"
     ]
    }
   ],
   "source": [
    "from datasets import load_dataset\n",
    "\n",
    "\n",
    "\n",
    "ds = load_dataset(\"cnamuangtoun/resume-job-description-fit\")"
   ]
  },
  {
   "cell_type": "code",
   "execution_count": 2,
   "id": "c285a3c5",
   "metadata": {},
   "outputs": [],
   "source": [
    "from dataclasses import dataclass\n",
    "from pathlib import Path\n",
    "\n",
    "@dataclass\n",
    "class DataIngestionConfig:\n",
    "    root_dir : Path\n",
    "    data_source : Path"
   ]
  },
  {
   "cell_type": "code",
   "execution_count": 19,
   "id": "b431a6b9",
   "metadata": {},
   "outputs": [],
   "source": [
    "from src.ATS_RESUME.constants import *\n",
    "from src.ATS_RESUME.utils.common import read_yaml ,create_directories"
   ]
  },
  {
   "cell_type": "code",
   "execution_count": 20,
   "id": "0bdd1eb7",
   "metadata": {},
   "outputs": [],
   "source": [
    "class ConfigurationManager:\n",
    "    def __init__(self , config_path = CONFIG_FILE_PATH , param_path = PARAMS_FILE_PATH):\n",
    "        self.config = read_yaml(config_path)\n",
    "        self.params = read_yaml(param_path)\n",
    "        \n",
    "        create_directories([self.config.artifact_root])\n",
    "        \n",
    "    def get_data_ingestion_config(self) -> DataIngestionConfig :\n",
    "        \n",
    "        config = self.config.data_ingestion\n",
    "        \n",
    "        data_ingestion_config = DataIngestionConfig(\n",
    "            root_dir = config.root_dir ,\n",
    "            data_source = config.data_source\n",
    "            \n",
    "            \n",
    "            \n",
    "            \n",
    "        )\n",
    "        \n",
    "        return data_ingestion_config"
   ]
  },
  {
   "cell_type": "code",
   "execution_count": 21,
   "id": "5b557a68",
   "metadata": {},
   "outputs": [],
   "source": [
    "from datasets import load_dataset\n",
    "import os\n",
    "\n",
    "\n",
    "\n",
    "class DataIngestion:\n",
    "    def __init__(self , config: DataIngestionConfig):\n",
    "        self.config = config\n",
    "        \n",
    "    def download_data(self):\n",
    "        \n",
    "        ds = load_dataset(self.config.data_source)\n",
    "        \n",
    "        os.makedirs(self.config.root_dir , exist_ok= True)\n",
    "        \n",
    "        train_path = os.path.join(self.config.root_dir , 'train.csv')\n",
    "        test_path = os.path.join(self.config.root_dir , 'test.csv')\n",
    "        ds[\"train\"].to_csv(train_path, index=False)\n",
    "        ds[\"test\"].to_csv(test_path, index=False)\n",
    "        \n",
    "        \n",
    "        \n",
    "        \n",
    "        \n",
    "\n",
    "        "
   ]
  },
  {
   "cell_type": "code",
   "execution_count": 25,
   "id": "1899e7f9",
   "metadata": {},
   "outputs": [
    {
     "name": "stdout",
     "output_type": "stream",
     "text": [
      "[2025-08-19 00:01:47,537: INFO: common: yaml file: config/config.yaml loaded successfully]\n",
      "[2025-08-19 00:01:47,549: INFO: common: yaml file: params.yaml loaded successfully]\n",
      "[2025-08-19 00:01:47,552: INFO: common: created directory at: artifacts]\n"
     ]
    },
    {
     "name": "stderr",
     "output_type": "stream",
     "text": [
      "Creating CSV from Arrow format: 100%|██████████| 7/7 [00:00<00:00, 17.04ba/s]\n",
      "Creating CSV from Arrow format: 100%|██████████| 2/2 [00:00<00:00, 18.68ba/s]\n"
     ]
    }
   ],
   "source": [
    "config = ConfigurationManager()\n",
    "data_ingestion_config = config.get_data_ingestion_config()\n",
    "data_ingestion = DataIngestion(config = data_ingestion_config)\n",
    "data_ingestion.download_data()\n"
   ]
  },
  {
   "cell_type": "code",
   "execution_count": null,
   "id": "0ae0d97f",
   "metadata": {},
   "outputs": [],
   "source": []
  }
 ],
 "metadata": {
  "kernelspec": {
   "display_name": "Python 3",
   "language": "python",
   "name": "python3"
  },
  "language_info": {
   "codemirror_mode": {
    "name": "ipython",
    "version": 3
   },
   "file_extension": ".py",
   "mimetype": "text/x-python",
   "name": "python",
   "nbconvert_exporter": "python",
   "pygments_lexer": "ipython3",
   "version": "3.10.0"
  }
 },
 "nbformat": 4,
 "nbformat_minor": 5
}
